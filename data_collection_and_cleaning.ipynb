{
 "cells": [
  {
   "cell_type": "markdown",
   "id": "9d7f540e-ee9a-494a-aaee-9b68eb09db5b",
   "metadata": {},
   "source": [
    "## Research Questions"
   ]
  },
  {
   "cell_type": "markdown",
   "id": "1f6cc180-9869-42ee-a7be-489cdfae702f",
   "metadata": {},
   "source": [
    "#### What are the funding trends by sector and across different countries\n",
    "#### Is there any evidence of a funding bubble or funding winter in certain years\n",
    "#### Which startup raised a significant amount of money but eventually shut down\n",
    "#### In which parts of the world are the top funded startups based?"
   ]
  },
  {
   "cell_type": "markdown",
   "id": "ad31e832-25dc-4156-a3b6-f5d6696883be",
   "metadata": {},
   "source": [
    "### Import Libraries"
   ]
  },
  {
   "cell_type": "code",
   "execution_count": 2,
   "id": "4466436f-939f-4ee2-acbb-8845914d4ad7",
   "metadata": {},
   "outputs": [],
   "source": [
    "import pandas as pd"
   ]
  },
  {
   "cell_type": "markdown",
   "id": "70a6ee59-8d50-4c8e-b7cb-e362de29ea82",
   "metadata": {},
   "source": [
    "# data collection and importation"
   ]
  },
  {
   "cell_type": "code",
   "execution_count": 8,
   "id": "b1c739e7-4286-45aa-83eb-86af29578fbd",
   "metadata": {},
   "outputs": [
    {
     "data": {
      "text/html": [
       "<div>\n",
       "<style scoped>\n",
       "    .dataframe tbody tr th:only-of-type {\n",
       "        vertical-align: middle;\n",
       "    }\n",
       "\n",
       "    .dataframe tbody tr th {\n",
       "        vertical-align: top;\n",
       "    }\n",
       "\n",
       "    .dataframe thead th {\n",
       "        text-align: right;\n",
       "    }\n",
       "</style>\n",
       "<table border=\"1\" class=\"dataframe\">\n",
       "  <thead>\n",
       "    <tr style=\"text-align: right;\">\n",
       "      <th></th>\n",
       "      <th>id</th>\n",
       "      <th>Unnamed: 0.1</th>\n",
       "      <th>entity_type</th>\n",
       "      <th>entity_id</th>\n",
       "      <th>parent_id</th>\n",
       "      <th>name</th>\n",
       "      <th>normalized_name</th>\n",
       "      <th>permalink</th>\n",
       "      <th>category_code</th>\n",
       "      <th>status</th>\n",
       "      <th>...</th>\n",
       "      <th>first_milestone_at</th>\n",
       "      <th>last_milestone_at</th>\n",
       "      <th>milestones</th>\n",
       "      <th>relationships</th>\n",
       "      <th>created_by</th>\n",
       "      <th>created_at</th>\n",
       "      <th>updated_at</th>\n",
       "      <th>lat</th>\n",
       "      <th>lng</th>\n",
       "      <th>ROI</th>\n",
       "    </tr>\n",
       "  </thead>\n",
       "  <tbody>\n",
       "    <tr>\n",
       "      <th>0</th>\n",
       "      <td>c:1</td>\n",
       "      <td>0</td>\n",
       "      <td>Company</td>\n",
       "      <td>1</td>\n",
       "      <td>NaN</td>\n",
       "      <td>Wetpaint</td>\n",
       "      <td>wetpaint</td>\n",
       "      <td>/company/wetpaint</td>\n",
       "      <td>web</td>\n",
       "      <td>operating</td>\n",
       "      <td>...</td>\n",
       "      <td>2010-09-05</td>\n",
       "      <td>2013-09-18</td>\n",
       "      <td>5.0</td>\n",
       "      <td>17.0</td>\n",
       "      <td>initial-importer</td>\n",
       "      <td>2007-05-25 06:51:27</td>\n",
       "      <td>2013-04-13 03:29:00</td>\n",
       "      <td>47.606209</td>\n",
       "      <td>-122.332071</td>\n",
       "      <td>15.5</td>\n",
       "    </tr>\n",
       "    <tr>\n",
       "      <th>1</th>\n",
       "      <td>c:10</td>\n",
       "      <td>1</td>\n",
       "      <td>Company</td>\n",
       "      <td>10</td>\n",
       "      <td>NaN</td>\n",
       "      <td>Flektor</td>\n",
       "      <td>flektor</td>\n",
       "      <td>/company/flektor</td>\n",
       "      <td>games_video</td>\n",
       "      <td>acquired</td>\n",
       "      <td>...</td>\n",
       "      <td>NaN</td>\n",
       "      <td>NaN</td>\n",
       "      <td>NaN</td>\n",
       "      <td>6.0</td>\n",
       "      <td>initial-importer</td>\n",
       "      <td>2007-05-31 21:11:51</td>\n",
       "      <td>2008-05-23 23:23:14</td>\n",
       "      <td>34.021122</td>\n",
       "      <td>-118.396467</td>\n",
       "      <td>NaN</td>\n",
       "    </tr>\n",
       "  </tbody>\n",
       "</table>\n",
       "<p>2 rows × 44 columns</p>\n",
       "</div>"
      ],
      "text/plain": [
       "     id  Unnamed: 0.1 entity_type  entity_id  parent_id      name  \\\n",
       "0   c:1             0     Company          1        NaN  Wetpaint   \n",
       "1  c:10             1     Company         10        NaN   Flektor   \n",
       "\n",
       "  normalized_name          permalink category_code     status  ...  \\\n",
       "0        wetpaint  /company/wetpaint           web  operating  ...   \n",
       "1         flektor   /company/flektor   games_video   acquired  ...   \n",
       "\n",
       "  first_milestone_at last_milestone_at milestones relationships  \\\n",
       "0         2010-09-05        2013-09-18        5.0          17.0   \n",
       "1                NaN               NaN        NaN           6.0   \n",
       "\n",
       "         created_by           created_at           updated_at        lat  \\\n",
       "0  initial-importer  2007-05-25 06:51:27  2013-04-13 03:29:00  47.606209   \n",
       "1  initial-importer  2007-05-31 21:11:51  2008-05-23 23:23:14  34.021122   \n",
       "\n",
       "          lng   ROI  \n",
       "0 -122.332071  15.5  \n",
       "1 -118.396467   NaN  \n",
       "\n",
       "[2 rows x 44 columns]"
      ]
     },
     "execution_count": 8,
     "metadata": {},
     "output_type": "execute_result"
    }
   ],
   "source": [
    "df = pd.read_csv(r\"C:\\Users\\HP\\Desktop\\companies.csv\")\n",
    "df.head(2)"
   ]
  },
  {
   "cell_type": "markdown",
   "id": "b179b325-f5e5-43aa-8e23-1888fa08d74f",
   "metadata": {},
   "source": [
    "#### Check the number of rows and columns"
   ]
  },
  {
   "cell_type": "code",
   "execution_count": 10,
   "id": "5154af23-9159-4ebe-a337-6c27d3d4a628",
   "metadata": {},
   "outputs": [
    {
     "data": {
      "text/plain": [
       "(196553, 44)"
      ]
     },
     "execution_count": 10,
     "metadata": {},
     "output_type": "execute_result"
    }
   ],
   "source": [
    "df.shape"
   ]
  },
  {
   "cell_type": "markdown",
   "id": "e64a8341-322d-48de-a427-5c0c4fa9d779",
   "metadata": {},
   "source": [
    "#### Select the columns needed for analysis"
   ]
  },
  {
   "cell_type": "code",
   "execution_count": 21,
   "id": "aef23cbe-9ba1-46be-a13b-896bb4958ab0",
   "metadata": {},
   "outputs": [
    {
     "data": {
      "text/html": [
       "<div>\n",
       "<style scoped>\n",
       "    .dataframe tbody tr th:only-of-type {\n",
       "        vertical-align: middle;\n",
       "    }\n",
       "\n",
       "    .dataframe tbody tr th {\n",
       "        vertical-align: top;\n",
       "    }\n",
       "\n",
       "    .dataframe thead th {\n",
       "        text-align: right;\n",
       "    }\n",
       "</style>\n",
       "<table border=\"1\" class=\"dataframe\">\n",
       "  <thead>\n",
       "    <tr style=\"text-align: right;\">\n",
       "      <th></th>\n",
       "      <th>permalink</th>\n",
       "      <th>name</th>\n",
       "      <th>homepage_url</th>\n",
       "      <th>category_code</th>\n",
       "      <th>funding_total_usd</th>\n",
       "      <th>status</th>\n",
       "      <th>country_code</th>\n",
       "      <th>state_code</th>\n",
       "      <th>region</th>\n",
       "      <th>city</th>\n",
       "      <th>funding_rounds</th>\n",
       "      <th>founded_at</th>\n",
       "    </tr>\n",
       "  </thead>\n",
       "  <tbody>\n",
       "    <tr>\n",
       "      <th>0</th>\n",
       "      <td>/company/wetpaint</td>\n",
       "      <td>Wetpaint</td>\n",
       "      <td>http://wetpaint-inc.com</td>\n",
       "      <td>web</td>\n",
       "      <td>39750000.0</td>\n",
       "      <td>operating</td>\n",
       "      <td>USA</td>\n",
       "      <td>WA</td>\n",
       "      <td>Seattle</td>\n",
       "      <td>Seattle</td>\n",
       "      <td>3.0</td>\n",
       "      <td>2005-10-17</td>\n",
       "    </tr>\n",
       "    <tr>\n",
       "      <th>1</th>\n",
       "      <td>/company/flektor</td>\n",
       "      <td>Flektor</td>\n",
       "      <td>http://www.flektor.com</td>\n",
       "      <td>games_video</td>\n",
       "      <td>NaN</td>\n",
       "      <td>acquired</td>\n",
       "      <td>USA</td>\n",
       "      <td>CA</td>\n",
       "      <td>Los Angeles</td>\n",
       "      <td>Culver City</td>\n",
       "      <td>NaN</td>\n",
       "      <td>NaN</td>\n",
       "    </tr>\n",
       "    <tr>\n",
       "      <th>2</th>\n",
       "      <td>/company/there</td>\n",
       "      <td>There</td>\n",
       "      <td>http://www.there.com</td>\n",
       "      <td>games_video</td>\n",
       "      <td>NaN</td>\n",
       "      <td>acquired</td>\n",
       "      <td>USA</td>\n",
       "      <td>CA</td>\n",
       "      <td>SF Bay</td>\n",
       "      <td>San Mateo</td>\n",
       "      <td>NaN</td>\n",
       "      <td>NaN</td>\n",
       "    </tr>\n",
       "  </tbody>\n",
       "</table>\n",
       "</div>"
      ],
      "text/plain": [
       "           permalink      name             homepage_url category_code  \\\n",
       "0  /company/wetpaint  Wetpaint  http://wetpaint-inc.com           web   \n",
       "1   /company/flektor   Flektor   http://www.flektor.com   games_video   \n",
       "2     /company/there     There     http://www.there.com   games_video   \n",
       "\n",
       "   funding_total_usd     status country_code state_code       region  \\\n",
       "0         39750000.0  operating          USA         WA      Seattle   \n",
       "1                NaN   acquired          USA         CA  Los Angeles   \n",
       "2                NaN   acquired          USA         CA       SF Bay   \n",
       "\n",
       "          city  funding_rounds  founded_at  \n",
       "0      Seattle             3.0  2005-10-17  \n",
       "1  Culver City             NaN         NaN  \n",
       "2    San Mateo             NaN         NaN  "
      ]
     },
     "execution_count": 21,
     "metadata": {},
     "output_type": "execute_result"
    }
   ],
   "source": [
    "required_columns = ['permalink', 'name', 'homepage_url', 'category_code', \n",
    "                    'funding_total_usd', 'status', 'country_code', 'state_code',\n",
    "                       'region', 'city', 'funding_rounds', 'founded_at']\n",
    "\n",
    "df = df[required_columns]\n",
    "df.head(3)"
   ]
  },
  {
   "cell_type": "markdown",
   "id": "5d2e1566-6bcb-4d48-b07a-d952114a4c73",
   "metadata": {},
   "source": [
    "#### Count the number of duplicates"
   ]
  },
  {
   "cell_type": "code",
   "execution_count": 25,
   "id": "1466e944-b0f6-4638-8775-75f04debdcdb",
   "metadata": {},
   "outputs": [
    {
     "name": "stdout",
     "output_type": "stream",
     "text": [
      "The number of duplicate values is 38\n"
     ]
    }
   ],
   "source": [
    "print(f\"The number of duplicate values is {df.duplicated().sum()}\")"
   ]
  },
  {
   "cell_type": "markdown",
   "id": "e06842fe-4668-44bd-be72-92fe4ab2bad0",
   "metadata": {},
   "source": [
    "#### Remove duplicates and confirm if they have been dropped"
   ]
  },
  {
   "cell_type": "code",
   "execution_count": 30,
   "id": "4a08013d-2aa7-43da-96a1-fe15f7d5c886",
   "metadata": {},
   "outputs": [
    {
     "data": {
      "text/plain": [
       "0"
      ]
     },
     "execution_count": 30,
     "metadata": {},
     "output_type": "execute_result"
    }
   ],
   "source": [
    "df.drop_duplicates(inplace=True)\n",
    "df.duplicated().sum()"
   ]
  },
  {
   "cell_type": "markdown",
   "id": "b459048c-0fb5-4b53-ab34-b435f27beffa",
   "metadata": {},
   "source": [
    "#### Check for Null Values in the funding column"
   ]
  },
  {
   "cell_type": "code",
   "execution_count": 34,
   "id": "43e8ce9b-a01d-4a58-b954-295a314dd032",
   "metadata": {},
   "outputs": [
    {
     "data": {
      "text/plain": [
       "168641"
      ]
     },
     "execution_count": 34,
     "metadata": {},
     "output_type": "execute_result"
    }
   ],
   "source": [
    "df['funding_total_usd'].isnull().sum()"
   ]
  },
  {
   "cell_type": "markdown",
   "id": "8e985754-af81-4a86-8fb3-110c771bb951",
   "metadata": {},
   "source": [
    "#### Drop the null values"
   ]
  },
  {
   "cell_type": "code",
   "execution_count": 39,
   "id": "6fd47102-a490-461d-988c-4012917f4bcc",
   "metadata": {},
   "outputs": [],
   "source": [
    "df.dropna(subset = ['funding_total_usd'], inplace=True)"
   ]
  },
  {
   "cell_type": "markdown",
   "id": "6ecf6dde-0ebc-463b-a652-44a53fd20c52",
   "metadata": {},
   "source": [
    "#### Confirm dataset"
   ]
  },
  {
   "cell_type": "code",
   "execution_count": 47,
   "id": "27587cbf-dc04-4909-a2fd-5467f3ff5ad6",
   "metadata": {},
   "outputs": [
    {
     "data": {
      "text/plain": [
       "0"
      ]
     },
     "execution_count": 47,
     "metadata": {},
     "output_type": "execute_result"
    }
   ],
   "source": [
    "df['funding_total_usd'].isnull().sum()"
   ]
  },
  {
   "cell_type": "markdown",
   "id": "ddb7ca05-8137-4828-930b-6d4505b12b8a",
   "metadata": {},
   "source": [
    "#### Change the name of the category_code column to Sector"
   ]
  },
  {
   "cell_type": "code",
   "execution_count": 51,
   "id": "a1ff758b-dcaa-4c3b-be17-82eb32479346",
   "metadata": {},
   "outputs": [
    {
     "data": {
      "text/html": [
       "<div>\n",
       "<style scoped>\n",
       "    .dataframe tbody tr th:only-of-type {\n",
       "        vertical-align: middle;\n",
       "    }\n",
       "\n",
       "    .dataframe tbody tr th {\n",
       "        vertical-align: top;\n",
       "    }\n",
       "\n",
       "    .dataframe thead th {\n",
       "        text-align: right;\n",
       "    }\n",
       "</style>\n",
       "<table border=\"1\" class=\"dataframe\">\n",
       "  <thead>\n",
       "    <tr style=\"text-align: right;\">\n",
       "      <th></th>\n",
       "      <th>permalink</th>\n",
       "      <th>name</th>\n",
       "      <th>homepage_url</th>\n",
       "      <th>sector</th>\n",
       "      <th>funding_total_usd</th>\n",
       "      <th>status</th>\n",
       "      <th>country_code</th>\n",
       "      <th>state_code</th>\n",
       "      <th>region</th>\n",
       "      <th>city</th>\n",
       "      <th>funding_rounds</th>\n",
       "      <th>founded_at</th>\n",
       "    </tr>\n",
       "  </thead>\n",
       "  <tbody>\n",
       "    <tr>\n",
       "      <th>0</th>\n",
       "      <td>/company/wetpaint</td>\n",
       "      <td>Wetpaint</td>\n",
       "      <td>http://wetpaint-inc.com</td>\n",
       "      <td>web</td>\n",
       "      <td>39750000.0</td>\n",
       "      <td>operating</td>\n",
       "      <td>USA</td>\n",
       "      <td>WA</td>\n",
       "      <td>Seattle</td>\n",
       "      <td>Seattle</td>\n",
       "      <td>3.0</td>\n",
       "      <td>2005-10-17</td>\n",
       "    </tr>\n",
       "    <tr>\n",
       "      <th>13</th>\n",
       "      <td>/company/friendfeed</td>\n",
       "      <td>FriendFeed</td>\n",
       "      <td>http://friendfeed.com</td>\n",
       "      <td>web</td>\n",
       "      <td>5000000.0</td>\n",
       "      <td>acquired</td>\n",
       "      <td>USA</td>\n",
       "      <td>CA</td>\n",
       "      <td>SF Bay</td>\n",
       "      <td>Mountain View</td>\n",
       "      <td>1.0</td>\n",
       "      <td>2007-10-01</td>\n",
       "    </tr>\n",
       "    <tr>\n",
       "      <th>19</th>\n",
       "      <td>/company/fitbit</td>\n",
       "      <td>Fitbit</td>\n",
       "      <td>http://www.fitbit.com</td>\n",
       "      <td>health</td>\n",
       "      <td>68069200.0</td>\n",
       "      <td>operating</td>\n",
       "      <td>USA</td>\n",
       "      <td>CA</td>\n",
       "      <td>SF Bay</td>\n",
       "      <td>San Francisco</td>\n",
       "      <td>5.0</td>\n",
       "      <td>2007-10-01</td>\n",
       "    </tr>\n",
       "  </tbody>\n",
       "</table>\n",
       "</div>"
      ],
      "text/plain": [
       "              permalink        name             homepage_url  sector  \\\n",
       "0     /company/wetpaint    Wetpaint  http://wetpaint-inc.com     web   \n",
       "13  /company/friendfeed  FriendFeed    http://friendfeed.com     web   \n",
       "19      /company/fitbit      Fitbit    http://www.fitbit.com  health   \n",
       "\n",
       "    funding_total_usd     status country_code state_code   region  \\\n",
       "0          39750000.0  operating          USA         WA  Seattle   \n",
       "13          5000000.0   acquired          USA         CA   SF Bay   \n",
       "19         68069200.0  operating          USA         CA   SF Bay   \n",
       "\n",
       "             city  funding_rounds  founded_at  \n",
       "0         Seattle             3.0  2005-10-17  \n",
       "13  Mountain View             1.0  2007-10-01  \n",
       "19  San Francisco             5.0  2007-10-01  "
      ]
     },
     "execution_count": 51,
     "metadata": {},
     "output_type": "execute_result"
    }
   ],
   "source": [
    "df.rename(columns = {'category_code':'sector'}, inplace = True)\n",
    "df.head(3)"
   ]
  },
  {
   "cell_type": "markdown",
   "id": "442aa05b-2d25-4fad-a4fc-5c400dd6df41",
   "metadata": {},
   "source": [
    "#### Change the case of selected column headers to lowercase"
   ]
  },
  {
   "cell_type": "code",
   "execution_count": 58,
   "id": "007de744-75b3-4a24-b21b-26fa2d2ffd2f",
   "metadata": {},
   "outputs": [
    {
     "data": {
      "text/html": [
       "<div>\n",
       "<style scoped>\n",
       "    .dataframe tbody tr th:only-of-type {\n",
       "        vertical-align: middle;\n",
       "    }\n",
       "\n",
       "    .dataframe tbody tr th {\n",
       "        vertical-align: top;\n",
       "    }\n",
       "\n",
       "    .dataframe thead th {\n",
       "        text-align: right;\n",
       "    }\n",
       "</style>\n",
       "<table border=\"1\" class=\"dataframe\">\n",
       "  <thead>\n",
       "    <tr style=\"text-align: right;\">\n",
       "      <th></th>\n",
       "      <th>permalink</th>\n",
       "      <th>name</th>\n",
       "      <th>homepage_url</th>\n",
       "      <th>sector</th>\n",
       "      <th>funding_total_usd</th>\n",
       "      <th>status</th>\n",
       "      <th>country_code</th>\n",
       "      <th>state_code</th>\n",
       "      <th>region</th>\n",
       "      <th>city</th>\n",
       "      <th>funding_rounds</th>\n",
       "      <th>founded_at</th>\n",
       "    </tr>\n",
       "  </thead>\n",
       "  <tbody>\n",
       "    <tr>\n",
       "      <th>0</th>\n",
       "      <td>/company/wetpaint</td>\n",
       "      <td>wetpaint</td>\n",
       "      <td>http://wetpaint-inc.com</td>\n",
       "      <td>web</td>\n",
       "      <td>39750000.0</td>\n",
       "      <td>operating</td>\n",
       "      <td>USA</td>\n",
       "      <td>WA</td>\n",
       "      <td>seattle</td>\n",
       "      <td>seattle</td>\n",
       "      <td>3.0</td>\n",
       "      <td>2005-10-17</td>\n",
       "    </tr>\n",
       "    <tr>\n",
       "      <th>13</th>\n",
       "      <td>/company/friendfeed</td>\n",
       "      <td>friendfeed</td>\n",
       "      <td>http://friendfeed.com</td>\n",
       "      <td>web</td>\n",
       "      <td>5000000.0</td>\n",
       "      <td>acquired</td>\n",
       "      <td>USA</td>\n",
       "      <td>CA</td>\n",
       "      <td>sf bay</td>\n",
       "      <td>mountain view</td>\n",
       "      <td>1.0</td>\n",
       "      <td>2007-10-01</td>\n",
       "    </tr>\n",
       "  </tbody>\n",
       "</table>\n",
       "</div>"
      ],
      "text/plain": [
       "              permalink        name             homepage_url sector  \\\n",
       "0     /company/wetpaint    wetpaint  http://wetpaint-inc.com    web   \n",
       "13  /company/friendfeed  friendfeed    http://friendfeed.com    web   \n",
       "\n",
       "    funding_total_usd     status country_code state_code   region  \\\n",
       "0          39750000.0  operating          USA         WA  seattle   \n",
       "13          5000000.0   acquired          USA         CA   sf bay   \n",
       "\n",
       "             city  funding_rounds  founded_at  \n",
       "0         seattle             3.0  2005-10-17  \n",
       "13  mountain view             1.0  2007-10-01  "
      ]
     },
     "execution_count": 58,
     "metadata": {},
     "output_type": "execute_result"
    }
   ],
   "source": [
    "df[['name', 'region', 'city']] = df[['name', 'region', 'city']].apply(lambda x : x.str.lower())\n",
    "\n",
    "df.head(2)"
   ]
  },
  {
   "cell_type": "code",
   "execution_count": 67,
   "id": "5ce4c5e3-eaed-49a8-aebc-08abbd24a795",
   "metadata": {},
   "outputs": [
    {
     "data": {
      "text/html": [
       "<div>\n",
       "<style scoped>\n",
       "    .dataframe tbody tr th:only-of-type {\n",
       "        vertical-align: middle;\n",
       "    }\n",
       "\n",
       "    .dataframe tbody tr th {\n",
       "        vertical-align: top;\n",
       "    }\n",
       "\n",
       "    .dataframe thead th {\n",
       "        text-align: right;\n",
       "    }\n",
       "</style>\n",
       "<table border=\"1\" class=\"dataframe\">\n",
       "  <thead>\n",
       "    <tr style=\"text-align: right;\">\n",
       "      <th></th>\n",
       "      <th>permalink</th>\n",
       "      <th>name</th>\n",
       "      <th>homepage_url</th>\n",
       "      <th>sector</th>\n",
       "      <th>funding_total_usd</th>\n",
       "      <th>status</th>\n",
       "      <th>country_code</th>\n",
       "      <th>state_code</th>\n",
       "      <th>region</th>\n",
       "      <th>city</th>\n",
       "      <th>funding_rounds</th>\n",
       "      <th>founded_at</th>\n",
       "    </tr>\n",
       "  </thead>\n",
       "  <tbody>\n",
       "    <tr>\n",
       "      <th>0</th>\n",
       "      <td>/company/wetpaint</td>\n",
       "      <td>wetpaint</td>\n",
       "      <td>http://wetpaint-inc.com</td>\n",
       "      <td>web</td>\n",
       "      <td>39750000.0</td>\n",
       "      <td>operating</td>\n",
       "      <td>USA</td>\n",
       "      <td>WA</td>\n",
       "      <td>seattle</td>\n",
       "      <td>seattle</td>\n",
       "      <td>3.0</td>\n",
       "      <td>2005-10-17</td>\n",
       "    </tr>\n",
       "    <tr>\n",
       "      <th>13</th>\n",
       "      <td>/company/friendfeed</td>\n",
       "      <td>friendfeed</td>\n",
       "      <td>http://friendfeed.com</td>\n",
       "      <td>web</td>\n",
       "      <td>5000000.0</td>\n",
       "      <td>acquired</td>\n",
       "      <td>USA</td>\n",
       "      <td>CA</td>\n",
       "      <td>sf bay</td>\n",
       "      <td>mountain view</td>\n",
       "      <td>1.0</td>\n",
       "      <td>2007-10-01</td>\n",
       "    </tr>\n",
       "    <tr>\n",
       "      <th>19</th>\n",
       "      <td>/company/fitbit</td>\n",
       "      <td>fitbit</td>\n",
       "      <td>http://www.fitbit.com</td>\n",
       "      <td>health</td>\n",
       "      <td>68069200.0</td>\n",
       "      <td>operating</td>\n",
       "      <td>USA</td>\n",
       "      <td>CA</td>\n",
       "      <td>sf bay</td>\n",
       "      <td>san francisco</td>\n",
       "      <td>5.0</td>\n",
       "      <td>2007-10-01</td>\n",
       "    </tr>\n",
       "    <tr>\n",
       "      <th>20</th>\n",
       "      <td>/company/mtpv</td>\n",
       "      <td>mtpv</td>\n",
       "      <td>http://www.mtpv.com</td>\n",
       "      <td>cleantech</td>\n",
       "      <td>10125293.0</td>\n",
       "      <td>operating</td>\n",
       "      <td>USA</td>\n",
       "      <td>TX</td>\n",
       "      <td>austin</td>\n",
       "      <td>austin</td>\n",
       "      <td>3.0</td>\n",
       "      <td>2003-01-01</td>\n",
       "    </tr>\n",
       "    <tr>\n",
       "      <th>24</th>\n",
       "      <td>/company/demandbase</td>\n",
       "      <td>demandbase</td>\n",
       "      <td>http://www.demandbase.com</td>\n",
       "      <td>analytics</td>\n",
       "      <td>33000000.0</td>\n",
       "      <td>operating</td>\n",
       "      <td>USA</td>\n",
       "      <td>CA</td>\n",
       "      <td>sf bay</td>\n",
       "      <td>san francisco</td>\n",
       "      <td>3.0</td>\n",
       "      <td>2006-01-01</td>\n",
       "    </tr>\n",
       "    <tr>\n",
       "      <th>26</th>\n",
       "      <td>/company/locatrix-communications</td>\n",
       "      <td>locatrix communications</td>\n",
       "      <td>http://locatrix.com</td>\n",
       "      <td>mobile</td>\n",
       "      <td>250000.0</td>\n",
       "      <td>operating</td>\n",
       "      <td>AUS</td>\n",
       "      <td>NaN</td>\n",
       "      <td>sf bay</td>\n",
       "      <td>brisbane</td>\n",
       "      <td>1.0</td>\n",
       "      <td>2003-11-01</td>\n",
       "    </tr>\n",
       "    <tr>\n",
       "      <th>32</th>\n",
       "      <td>/company/ihirehelp</td>\n",
       "      <td>ihirehelp</td>\n",
       "      <td>http://www.iHireHelp.com</td>\n",
       "      <td>education</td>\n",
       "      <td>100000.0</td>\n",
       "      <td>operating</td>\n",
       "      <td>USA</td>\n",
       "      <td>NJ</td>\n",
       "      <td>new jersey - other</td>\n",
       "      <td>NaN</td>\n",
       "      <td>1.0</td>\n",
       "      <td>2010-10-01</td>\n",
       "    </tr>\n",
       "    <tr>\n",
       "      <th>36</th>\n",
       "      <td>/company/cardiosolutions</td>\n",
       "      <td>cardiosolutions</td>\n",
       "      <td>http://www.cardiosolutionsinc.com</td>\n",
       "      <td>medical</td>\n",
       "      <td>11300000.0</td>\n",
       "      <td>operating</td>\n",
       "      <td>USA</td>\n",
       "      <td>MA</td>\n",
       "      <td>west bridgewater</td>\n",
       "      <td>west bridgewater</td>\n",
       "      <td>2.0</td>\n",
       "      <td>2006-01-01</td>\n",
       "    </tr>\n",
       "    <tr>\n",
       "      <th>40</th>\n",
       "      <td>/company/blend-biosciences</td>\n",
       "      <td>blend biosciences</td>\n",
       "      <td>NaN</td>\n",
       "      <td>biotech</td>\n",
       "      <td>2800000.0</td>\n",
       "      <td>operating</td>\n",
       "      <td>NaN</td>\n",
       "      <td>NaN</td>\n",
       "      <td>unknown</td>\n",
       "      <td>NaN</td>\n",
       "      <td>1.0</td>\n",
       "      <td>NaN</td>\n",
       "    </tr>\n",
       "    <tr>\n",
       "      <th>41</th>\n",
       "      <td>/company/wevod</td>\n",
       "      <td>wevod</td>\n",
       "      <td>http://www.wevod.tv</td>\n",
       "      <td>games_video</td>\n",
       "      <td>414840.0</td>\n",
       "      <td>operating</td>\n",
       "      <td>FRA</td>\n",
       "      <td>NaN</td>\n",
       "      <td>paris</td>\n",
       "      <td>paris</td>\n",
       "      <td>2.0</td>\n",
       "      <td>2006-05-04</td>\n",
       "    </tr>\n",
       "  </tbody>\n",
       "</table>\n",
       "</div>"
      ],
      "text/plain": [
       "                           permalink                     name  \\\n",
       "0                  /company/wetpaint                 wetpaint   \n",
       "13               /company/friendfeed               friendfeed   \n",
       "19                   /company/fitbit                   fitbit   \n",
       "20                     /company/mtpv                     mtpv   \n",
       "24               /company/demandbase               demandbase   \n",
       "26  /company/locatrix-communications  locatrix communications   \n",
       "32                /company/ihirehelp                ihirehelp   \n",
       "36          /company/cardiosolutions          cardiosolutions   \n",
       "40        /company/blend-biosciences        blend biosciences   \n",
       "41                    /company/wevod                    wevod   \n",
       "\n",
       "                         homepage_url       sector  funding_total_usd  \\\n",
       "0             http://wetpaint-inc.com          web         39750000.0   \n",
       "13              http://friendfeed.com          web          5000000.0   \n",
       "19              http://www.fitbit.com       health         68069200.0   \n",
       "20                http://www.mtpv.com    cleantech         10125293.0   \n",
       "24          http://www.demandbase.com    analytics         33000000.0   \n",
       "26                http://locatrix.com       mobile           250000.0   \n",
       "32           http://www.iHireHelp.com    education           100000.0   \n",
       "36  http://www.cardiosolutionsinc.com      medical         11300000.0   \n",
       "40                                NaN      biotech          2800000.0   \n",
       "41                http://www.wevod.tv  games_video           414840.0   \n",
       "\n",
       "       status country_code state_code              region              city  \\\n",
       "0   operating          USA         WA             seattle           seattle   \n",
       "13   acquired          USA         CA              sf bay     mountain view   \n",
       "19  operating          USA         CA              sf bay     san francisco   \n",
       "20  operating          USA         TX              austin            austin   \n",
       "24  operating          USA         CA              sf bay     san francisco   \n",
       "26  operating          AUS        NaN              sf bay          brisbane   \n",
       "32  operating          USA         NJ  new jersey - other               NaN   \n",
       "36  operating          USA         MA    west bridgewater  west bridgewater   \n",
       "40  operating          NaN        NaN             unknown               NaN   \n",
       "41  operating          FRA        NaN               paris             paris   \n",
       "\n",
       "    funding_rounds  founded_at  \n",
       "0              3.0  2005-10-17  \n",
       "13             1.0  2007-10-01  \n",
       "19             5.0  2007-10-01  \n",
       "20             3.0  2003-01-01  \n",
       "24             3.0  2006-01-01  \n",
       "26             1.0  2003-11-01  \n",
       "32             1.0  2010-10-01  \n",
       "36             2.0  2006-01-01  \n",
       "40             1.0         NaN  \n",
       "41             2.0  2006-05-04  "
      ]
     },
     "execution_count": 67,
     "metadata": {},
     "output_type": "execute_result"
    }
   ],
   "source": [
    "df.head(10)"
   ]
  },
  {
   "cell_type": "code",
   "execution_count": 69,
   "id": "221c2a17-efa6-4f09-b9d2-356aa1590d53",
   "metadata": {},
   "outputs": [
    {
     "data": {
      "text/plain": [
       "(27874, 12)"
      ]
     },
     "execution_count": 69,
     "metadata": {},
     "output_type": "execute_result"
    }
   ],
   "source": [
    "df.shape"
   ]
  },
  {
   "cell_type": "markdown",
   "id": "54e59777-4d95-4e07-b057-6c9262bbbec2",
   "metadata": {},
   "source": [
    "## Save the dataframe into a csv file"
   ]
  },
  {
   "cell_type": "code",
   "execution_count": 72,
   "id": "e072f991-e646-4345-bb27-1ad66ba57518",
   "metadata": {},
   "outputs": [],
   "source": [
    "df.to_csv('cleaned_research_data.csv', index=False )"
   ]
  },
  {
   "cell_type": "code",
   "execution_count": null,
   "id": "9401ff48-0a1d-42e2-a211-0dba35ed436a",
   "metadata": {},
   "outputs": [],
   "source": []
  }
 ],
 "metadata": {
  "kernelspec": {
   "display_name": "Python 3 (ipykernel)",
   "language": "python",
   "name": "python3"
  },
  "language_info": {
   "codemirror_mode": {
    "name": "ipython",
    "version": 3
   },
   "file_extension": ".py",
   "mimetype": "text/x-python",
   "name": "python",
   "nbconvert_exporter": "python",
   "pygments_lexer": "ipython3",
   "version": "3.12.4"
  }
 },
 "nbformat": 4,
 "nbformat_minor": 5
}
